{
  "nbformat": 4,
  "nbformat_minor": 0,
  "metadata": {
    "colab": {
      "provenance": []
    },
    "kernelspec": {
      "name": "python3",
      "display_name": "Python 3"
    },
    "language_info": {
      "name": "python"
    }
  },
  "cells": [
    {
      "cell_type": "markdown",
      "source": [
        "# Python Basic\n"
      ],
      "metadata": {
        "id": "FqYEcFrMi4wV"
      }
    },
    {
      "cell_type": "markdown",
      "source": [
        "1. What is Python, and why is it popular?\n",
        "   - Python is a high level and versatile programming language, known for its readability and ease of use. it is popular because because of its ease of learning, versatility, vast number of libraries that support a huge user community base.\n",
        "2. What is an interpreter in python?\n",
        "   - an interpreter in python is a program that executes python code directly, without needing to compile it into machine code first.\n",
        "3. What are pre-defined keywords in Python?\n",
        "   - In Python, pre-defined keywords (also known as reserved keywords) are words that have special meaning in the language. These words are reserved by the Python interpreter and cannot be used for variable names, function names, or identifiers.\n",
        "4. Can keywords be used as variable names?\n",
        "   - No, keywords cannot be used as variable names. Doing so, will give a syntax error.\n",
        "5. What is mutability in Python?\n",
        "   - Mutability in Python refers to whether an object’s value can be changed after it is created.\n",
        "6. Why are lists mutable, but tuples are immutable?\n",
        "   - In Python, lists are mutable while tuples are immutable due to their intended use cases and design philosophy. Lists are designed to hold collections of items that may need to change over time. For instance, you can add, remove, or modify elements in a list, making them flexible and suitable for tasks involving dynamic data such as loops, sorting, and filtering. This mutability provides programmers with the ability to manage changing datasets efficiently.\n",
        "\n",
        "    On the other hand, tuples are immutable, meaning their contents cannot be altered once they are created. This characteristic makes them ideal for storing fixed collections of values, such as coordinates, dates, or records. The immutability of tuples offers several advantages: it ensures data safety by preventing accidental modifications, improves performance due to more efficient storage and access, and allows tuples to be hashable, which means they can be used as keys in dictionaries or elements in sets—something mutable lists cannot do.\n",
        "7. What is the difference between “==” and “is” operators in Python?\n",
        "   - In Python, == and is are both comparison operators, but they serve different purposes. The == operator checks for equality of values—it compares whether the contents of two variables are the same. For example, if two lists contain the same elements in the same order, == will return True, even if the lists are stored in different memory locations. On the other hand, the is operator checks for object identity—it returns True only if both variables point to the exact same object in memory.\n",
        "   Fo example:\n",
        "   a = [1, 2, 3]\n",
        "   b = [1, 2, 3]\n",
        "   print(a == b)  #True → contents are equal\n",
        "\n",
        "   a = [1, 2, 3]\n",
        "   b = [1, 2, 3]\n",
        "   print(a is b)  #False → different objects in memory\n",
        "\n",
        "8. What are logical operators in Python?\n",
        "   - Logical operators in Python are used to combine or modify boolean expressions (conditions that evaluate to True or False). They help control the flow of programs by enabling more complex decision-making.\n",
        "9. What is type casting in Python?\n",
        "   - The process of changing the data type of a value/object eg from string to float or vice versa is called type casting or type conversion.\n",
        "10. What is the difference between implicit and explicit type casting?\n",
        "    - In Python, implicit type casting is done automatically by the interpreter when combining different data types, such as converting an int to a float in a mixed operation. It's safe and requires no manual intervention. Explicit type casting, however, is done manually by the programmer using functions like int(), float(), or str() to convert one type to another. While explicit casting gives more control, it must be used carefully to avoid errors or data loss. In short, implicit is automatic, explicit is manual.\n",
        "11. What is the purpose of conditional statements in Python?\n",
        "    - The purpose of conditional statements in Python is to control the flow of a program by making decisions based on certain conditions. They allow the program to execute different blocks of code depending on whether a condition is true or false. This enables Python programs to respond dynamically to different inputs or situations, making them more flexible and powerful. Common conditional statements include if, elif, and else, which help check conditions and decide which code should run next.\n",
        "12. How does the elif statement work?\n",
        "    - The elif statement in Python lets you check multiple conditions after an initial if. If the if condition is false, Python evaluates the elif condition. The first true condition’s code runs, and the rest are skipped. If none are true, the else block (if present) runs. It is used for handling multiple decision branches in a clean way.\n",
        "13. What is the difference between for and while loops?\n",
        "    - The difference between for and while loops in Python is mainly how they control repetition. A for loop iterates over a sequence (like a list, string, or range) and runs a block of code for each item, making it ideal when you know the number of iterations in advance. In contrast, a while loop runs as long as a given condition remains true, making it better suited for situations where the number of iterations depends on dynamic conditions or events. In short, use for when looping over a known collection or range, and while when looping based on a condition.\n",
        "14. Describe a scenario where a while loop is more suitable than a for loop.\n",
        "    - A while loop is more suitable than a for loop in situations where you don’t know beforehand how many times you need to repeat an action and the repetition depends on a changing condition. For example, imagine a program that keeps asking the user to enter a password until they get it right. Since you don’t know how many attempts the user will take, a while loop that runs “while the password is incorrect” is ideal. This lets the program continue looping based on the condition rather than a fixed number of iterations.\n",
        "     "
      ],
      "metadata": {
        "id": "A9a_0TNfjBR3"
      }
    },
    {
      "cell_type": "code",
      "execution_count": 1,
      "metadata": {
        "id": "L6a6ukLC-OrN",
        "colab": {
          "base_uri": "https://localhost:8080/"
        },
        "collapsed": true,
        "outputId": "64a3fb0c-d75d-46b6-f289-86bd0fd8d678"
      },
      "outputs": [
        {
          "output_type": "stream",
          "name": "stdout",
          "text": [
            "Hello World!\n"
          ]
        }
      ],
      "source": [
        "# 1. Write a Python program to print \"Hello, World!\"\n",
        "print (\"Hello World!\")\n"
      ]
    },
    {
      "cell_type": "code",
      "source": [
        "# 2. Write a Python program that displays your name and age.\n",
        "name = input(\"Enter your name: \")\n",
        "age = input(\"Enter your age: \")\n",
        "print(\"Your name is\", name)\n",
        "print(\"You are\", age, \"years old\")"
      ],
      "metadata": {
        "colab": {
          "base_uri": "https://localhost:8080/"
        },
        "collapsed": true,
        "id": "EvFPr39Np1E_",
        "outputId": "3a929777-f689-4d74-c2dc-c5f5976b1a09"
      },
      "execution_count": 11,
      "outputs": [
        {
          "output_type": "stream",
          "name": "stdout",
          "text": [
            "Enter your name: Kiv\n",
            "Enter your age: 25\n",
            "Your name is Kiv\n",
            "You are 25 years old\n"
          ]
        }
      ]
    },
    {
      "cell_type": "code",
      "source": [
        "# 3. Write code to print all the pre-defined keywords in Python using the keyword library.\n",
        "import keyword\n",
        "keywords = keyword.kwlist\n",
        "print (\"Python keywords are \")\n",
        "for kw in keywords:\n",
        "  print(kw)"
      ],
      "metadata": {
        "colab": {
          "base_uri": "https://localhost:8080/"
        },
        "collapsed": true,
        "id": "G58devVgiMax",
        "outputId": "2788f131-f667-46ee-83a3-27dc9ef7324a"
      },
      "execution_count": 7,
      "outputs": [
        {
          "output_type": "stream",
          "name": "stdout",
          "text": [
            "Python keywords are \n",
            "False\n",
            "None\n",
            "True\n",
            "and\n",
            "as\n",
            "assert\n",
            "async\n",
            "await\n",
            "break\n",
            "class\n",
            "continue\n",
            "def\n",
            "del\n",
            "elif\n",
            "else\n",
            "except\n",
            "finally\n",
            "for\n",
            "from\n",
            "global\n",
            "if\n",
            "import\n",
            "in\n",
            "is\n",
            "lambda\n",
            "nonlocal\n",
            "not\n",
            "or\n",
            "pass\n",
            "raise\n",
            "return\n",
            "try\n",
            "while\n",
            "with\n",
            "yield\n"
          ]
        }
      ]
    },
    {
      "cell_type": "code",
      "source": [
        "#4. Write a program that checks if a given word is a Python keyword.\n",
        "import keyword\n",
        "word = input(\"Enter a word to check if it is a Python keyword\")\n",
        "if keyword.iskeyword (word):\n",
        "  print(f\"'{word} is a Python keyword.\")\n",
        "else:\n",
        "  print(f\"'{word} is not a Python keyword.\")\n"
      ],
      "metadata": {
        "colab": {
          "base_uri": "https://localhost:8080/"
        },
        "collapsed": true,
        "id": "GYjWcbx7neXb",
        "outputId": "bd659ce3-f2a2-4aaa-a781-8534a711ab82"
      },
      "execution_count": 8,
      "outputs": [
        {
          "output_type": "stream",
          "name": "stdout",
          "text": [
            "Enter a word to check if it is a Python keywordelse\n",
            "'else is a Python keyword.\n"
          ]
        }
      ]
    },
    {
      "cell_type": "code",
      "source": [
        "\"\"\" 5. Create a list and tuple in Python, and demonstrate how attempting to change an element works differently\n",
        "for each.\"\"\"\n",
        "\n",
        "my_list = [10, 20, 30]\n",
        "my_tuple = (10, 20, 30)\n",
        "print(\"Original list:\", my_list)\n",
        "my_list[1]=200\n",
        "print(\"Modified list\", my_list)\n",
        "print(\"\\nOriginal tuple\", my_tuple)\n",
        "try:\n",
        "  my_tuple[1]=200\n",
        "except TypeError as e:\n",
        "  print(\"Error when trying to modify tuple:\", e)\n"
      ],
      "metadata": {
        "colab": {
          "base_uri": "https://localhost:8080/"
        },
        "collapsed": true,
        "id": "_q6n6yNCpRQL",
        "outputId": "74692d4c-4039-4432-872f-f72eb8c71fd7"
      },
      "execution_count": 11,
      "outputs": [
        {
          "output_type": "stream",
          "name": "stdout",
          "text": [
            "Original list: [10, 20, 30]\n",
            "Modified list [10, 200, 30]\n",
            "\n",
            "Original tuple (10, 20, 30)\n",
            "Error when trying to modify tuple: 'tuple' object does not support item assignment\n"
          ]
        }
      ]
    },
    {
      "cell_type": "code",
      "source": [
        "# 6. Write a function to demonstrate the behaviour of mutable and immutable objects.\n",
        "def modify_objects(mutable_obj, immutable_obj):\n",
        "    mutable_obj.append(100)\n",
        "\n",
        "    immutable_obj += 10\n",
        "\n",
        "    print(\"Inside function:\")\n",
        "    print(\"Mutable object:\", mutable_obj)\n",
        "    print(\"Immutable object:\", immutable_obj)\n",
        "\n",
        "my_list = [1, 2, 3]\n",
        "my_int = 50\n",
        "\n",
        "print(\"Before function call:\")\n",
        "print(\"Mutable object:\", my_list)\n",
        "print(\"Immutable object:\", my_int)\n",
        "\n",
        "modify_objects(my_list, my_int)\n",
        "\n",
        "print(\"\\nAfter function call:\")\n",
        "print(\"Mutable object:\", my_list)\n",
        "print(\"Immutable object:\", my_int)\n",
        "\n"
      ],
      "metadata": {
        "colab": {
          "base_uri": "https://localhost:8080/"
        },
        "collapsed": true,
        "id": "6A6ccqUoyiYZ",
        "outputId": "fde59091-c9f1-4a93-edcf-2f3cf157824e"
      },
      "execution_count": 1,
      "outputs": [
        {
          "output_type": "stream",
          "name": "stdout",
          "text": [
            "Before function call:\n",
            "Mutable object: [1, 2, 3]\n",
            "Immutable object: 50\n",
            "Inside function:\n",
            "Mutable object: [1, 2, 3, 100]\n",
            "Immutable object: 60\n",
            "\n",
            "After function call:\n",
            "Mutable object: [1, 2, 3, 100]\n",
            "Immutable object: 50\n"
          ]
        }
      ]
    },
    {
      "cell_type": "code",
      "source": [
        "# 7.  Write a program that performs basic arithmetic operations on two user-input numbers.\n",
        "n1 = float(input(\"Enter the first number: \"))\n",
        "n2 = float(input(\"Enter the second number: \"))\n",
        "\n",
        "addition = n1+n2\n",
        "subtraction = n1-n2\n",
        "multiplication = n1*n2\n",
        "\n",
        "if n2!=0:\n",
        "  division = n1/n2\n",
        "else:\n",
        "  division = \"Undefined/ (Cannot divide by zero)\"\n",
        "\n",
        "print(\"\\nResults:\")\n",
        "print(f\"Addition: {n1} + {n2} = {addition}\")\n",
        "print(f\"Subtraction: {n1} - {n2} = {subtraction}\")\n",
        "print(f\"Multiplication: {n1} * {n2} = {multiplication}\")\n",
        "print(f\"Division: {n1} / {n2} = {division}\")\n",
        "\n"
      ],
      "metadata": {
        "colab": {
          "base_uri": "https://localhost:8080/"
        },
        "collapsed": true,
        "id": "caT5FccQgbOv",
        "outputId": "9ce7cc99-1521-4dbe-a63e-97247080d645"
      },
      "execution_count": 2,
      "outputs": [
        {
          "output_type": "stream",
          "name": "stdout",
          "text": [
            "Enter the first number: 12\n",
            "Enter the second number: 6\n",
            "\n",
            "Results:\n",
            "Addition: 12.0 + 6.0 = 18.0\n",
            "Subtraction: 12.0 - 6.0 = 6.0\n",
            "Multiplication: 12.0 * 6.0 = 72.0\n",
            "Division: 12.0 / 6.0 = 2.0\n"
          ]
        }
      ]
    },
    {
      "cell_type": "code",
      "source": [
        "# 8. Write a program to demonstrate the use of logical operators.\n",
        "a = int(input(\"Enter first number: \"))\n",
        "b = int(input(\"Enter second number: \"))\n",
        "print(\"\\nLogical Operator Results:\")\n",
        "print(f\"Both numbers are positive: {a > 0 and b > 0}\")\n",
        "print(f\"At least one number is positive: {a > 0 or b > 0}\")\n",
        "print(f\"First number is NOT positive: {not (a > 0)}\")\n",
        "\n"
      ],
      "metadata": {
        "colab": {
          "base_uri": "https://localhost:8080/"
        },
        "collapsed": true,
        "id": "l49-Calvjyae",
        "outputId": "b7136031-c6a7-4c38-c97f-dba6a0661f1e"
      },
      "execution_count": 3,
      "outputs": [
        {
          "output_type": "stream",
          "name": "stdout",
          "text": [
            "Enter first number: 5\n",
            "Enter second number: 8\n",
            "\n",
            "Logical Operator Results:\n",
            "Both numbers are positive: True\n",
            "At least one number is positive: True\n",
            "First number is NOT positive: False\n"
          ]
        }
      ]
    },
    {
      "cell_type": "code",
      "source": [
        "# 9.  Write a Python program to convert user input from string to integer, float, and boolean types.\n",
        "# Get user input as a string\n",
        "user_input = input(\"Enter a value: \")\n",
        "\n",
        "# Convert to integer\n",
        "try:\n",
        "    int_value = int(user_input)\n",
        "    print(f\"Integer conversion: {int_value}\")\n",
        "except ValueError:\n",
        "    print(\"Invalid integer input.\")\n",
        "\n",
        "# Convert to float\n",
        "try:\n",
        "    float_value = float(user_input)\n",
        "    print(f\"Float conversion: {float_value}\")\n",
        "except ValueError:\n",
        "    print(\"Invalid float input.\")\n",
        "\n",
        "# Convert to boolean\n",
        "bool_value = bool(user_input.strip()) and user_input.lower() not in ['false', '0']\n",
        "print(f\"Boolean conversion: {bool_value}\")\n"
      ],
      "metadata": {
        "colab": {
          "base_uri": "https://localhost:8080/"
        },
        "collapsed": true,
        "id": "u231_hnYlNKi",
        "outputId": "0a2adbf8-51ff-4121-cfe7-a57b5b5179a9"
      },
      "execution_count": 5,
      "outputs": [
        {
          "output_type": "stream",
          "name": "stdout",
          "text": [
            "Enter a value: 59\n",
            "Integer conversion: 59\n",
            "Float conversion: 59.0\n",
            "Boolean conversion: True\n"
          ]
        }
      ]
    },
    {
      "cell_type": "code",
      "source": [
        "# 10. Write code to demonstrate type casting with list elements.\n",
        "str_list = ['110', '250', '380', '490']\n",
        "int_list = [int(item) for item in str_list]\n",
        "float_list = [float(item) for item in str_list]\n",
        "bool_list = [bool(int(item)) for item in str_list]  # Non-zero values become True\n",
        "print(\"Original list (strings):\", str_list)\n",
        "print(\"After casting to integers:\", int_list)\n",
        "print(\"After casting to floats:\", float_list)\n",
        "print(\"After casting to booleans:\", bool_list)\n",
        "\n"
      ],
      "metadata": {
        "colab": {
          "base_uri": "https://localhost:8080/"
        },
        "collapsed": true,
        "id": "MKgtU8ImntZi",
        "outputId": "f0c0d386-d781-4a78-ff01-dafa4f31c9bd"
      },
      "execution_count": 8,
      "outputs": [
        {
          "output_type": "stream",
          "name": "stdout",
          "text": [
            "Original list (strings): ['110', '250', '380', '490']\n",
            "After casting to integers: [110, 250, 380, 490]\n",
            "After casting to floats: [110.0, 250.0, 380.0, 490.0]\n",
            "After casting to booleans: [True, True, True, True]\n"
          ]
        }
      ]
    },
    {
      "cell_type": "code",
      "source": [
        "# 11. Write a program that checks if a number is positive, negative, or zero.\n",
        "num = float(input(\"Enter a number: \"))\n",
        "if num > 0:\n",
        "    print(\"The number is positive.\")\n",
        "elif num < 0:\n",
        "    print(\"The number is negative.\")\n",
        "else:\n",
        "    print(\"The number is zero.\")\n",
        "\n"
      ],
      "metadata": {
        "colab": {
          "base_uri": "https://localhost:8080/"
        },
        "collapsed": true,
        "id": "3JjaelBModcn",
        "outputId": "6777cea6-fe85-4bb0-eb1c-562696f37c61"
      },
      "execution_count": 9,
      "outputs": [
        {
          "output_type": "stream",
          "name": "stdout",
          "text": [
            "Enter a number: 0\n",
            "The number is zero.\n"
          ]
        }
      ]
    },
    {
      "cell_type": "code",
      "source": [
        "# 12. Write a for loop to print numbers from 1 to 10.\n",
        "for i in range(1, 11):\n",
        "  print(i)"
      ],
      "metadata": {
        "colab": {
          "base_uri": "https://localhost:8080/"
        },
        "collapsed": true,
        "id": "XgL0825Xo6vi",
        "outputId": "10dece3b-dd30-4c8f-e107-0dfbbb045657"
      },
      "execution_count": 10,
      "outputs": [
        {
          "output_type": "stream",
          "name": "stdout",
          "text": [
            "1\n",
            "2\n",
            "3\n",
            "4\n",
            "5\n",
            "6\n",
            "7\n",
            "8\n",
            "9\n",
            "10\n"
          ]
        }
      ]
    },
    {
      "cell_type": "code",
      "source": [
        "# 13. Write a Python program to find the sum of all even numbers between 1 and 50.\n",
        "even_sum = sum(range(2, 51, 2))\n",
        "print(\"The sum of all even numbers from 1 to 50 is:\", even_sum)"
      ],
      "metadata": {
        "colab": {
          "base_uri": "https://localhost:8080/"
        },
        "id": "h9sKWcKAqtlN",
        "outputId": "d4caa5c3-80ff-4ad1-c3e2-d604732f211c"
      },
      "execution_count": 15,
      "outputs": [
        {
          "output_type": "stream",
          "name": "stdout",
          "text": [
            "The sum of all even numbers from 1 to 50 is: 650\n"
          ]
        }
      ]
    },
    {
      "cell_type": "code",
      "source": [
        "# 14. Write a program to reverse a string using a while loop.\n",
        "original_string = input(\"Enter a string: \")\n",
        "reversed_string = \"\"\n",
        "index = len(original_string) - 1\n",
        "while index >= 0:\n",
        "    reversed_string += original_string[index]\n",
        "    index -= 1\n",
        "    print(\"Reversed string:\", reversed_string)\n",
        ""
      ],
      "metadata": {
        "colab": {
          "base_uri": "https://localhost:8080/"
        },
        "id": "5MqstRx20bEr",
        "outputId": "e6f516dd-15c5-46bf-c7f9-1e3aeb229ae1"
      },
      "execution_count": 16,
      "outputs": [
        {
          "output_type": "stream",
          "name": "stdout",
          "text": [
            "Enter a string: abhinav\n",
            "Reversed string: v\n",
            "Reversed string: va\n",
            "Reversed string: van\n",
            "Reversed string: vani\n",
            "Reversed string: vanih\n",
            "Reversed string: vanihb\n",
            "Reversed string: vanihba\n"
          ]
        }
      ]
    },
    {
      "cell_type": "code",
      "source": [
        "# 15. Write a Python program to calculate the factorial of a number provided by the user using a while loop.\n",
        "num = int(input(\"Enter a non-negative integer: \"))\n",
        "if num < 0:\n",
        "    print(\"Factorial is not defined for negative numbers.\")\n",
        "else:\n",
        "    factorial = 1\n",
        "    i = 1\n",
        "    while i <= num:\n",
        "        factorial *= i\n",
        "        i += 1\n",
        "    print(f\"The factorial of {num} is {factorial}\")"
      ],
      "metadata": {
        "colab": {
          "base_uri": "https://localhost:8080/"
        },
        "collapsed": true,
        "id": "VbTdT4fF2Jsz",
        "outputId": "072fc754-1a91-4338-a610-fdfafd1e818e"
      },
      "execution_count": 17,
      "outputs": [
        {
          "output_type": "stream",
          "name": "stdout",
          "text": [
            "Enter a non-negative integer: 67\n",
            "The factorial of 67 is 36471110918188685288249859096605464427167635314049524593701628500267962436943872000000000000000\n"
          ]
        }
      ]
    }
  ]
}